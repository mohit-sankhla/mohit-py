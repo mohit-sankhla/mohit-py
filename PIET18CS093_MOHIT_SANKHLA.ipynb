{
  "nbformat": 4,
  "nbformat_minor": 0,
  "metadata": {
    "colab": {
      "name": "PIET18CS093-MOHIT_SANKHLA.ipynb",
      "provenance": [],
      "collapsed_sections": []
    },
    "kernelspec": {
      "name": "python3",
      "display_name": "Python 3"
    },
    "language_info": {
      "name": "python"
    }
  },
  "cells": [
    {
      "cell_type": "markdown",
      "metadata": {
        "id": "5C-ib1T0qlPC"
      },
      "source": [
        "# **1. Create a web page for Hotel booking form. The first page include heading Hotel Booking Form, then it include fields like Name, Email, Room Type contain two options like standard or Private, Free pickup contain two options like pickup me or no thanks, Arrival date, departure date, on submit button all the information save in database and on clicking show button the information should be retrieve date wise from database and display it on display page**"
      ]
    },
    {
      "cell_type": "code",
      "metadata": {
        "id": "u4PMUGuwnRmN"
      },
      "source": [
        "import sqlite3  \n",
        "  \n",
        "con = sqlite3.connect(\"hotel.db\")  \n",
        "print(\"Database opened successfully\")  \n",
        "  \n",
        "con.execute(\"create table hotel1 (id INTEGER PRIMARY KEY AUTOINCREMENT, name TEXT UNIQUE NOT NULL, email TEXT NOT NULL, roomtype TEXT NOT NULL, pickup TEXT NOT NULL , arrival  DATE NOT NULL, departure DATE NOT NULL )\")  \n",
        "\n",
        "print(\"Table created successfully\")  \n",
        "  \n",
        "con.close()"
      ],
      "execution_count": null,
      "outputs": []
    },
    {
      "cell_type": "code",
      "metadata": {
        "id": "seMaH38qpAXG"
      },
      "source": [
        "import os\n",
        "os.mkdir('templates')\n",
        "os.mkdir('static')"
      ],
      "execution_count": null,
      "outputs": []
    },
    {
      "cell_type": "code",
      "metadata": {
        "id": "mFq_P9qvnX2o"
      },
      "source": [
        "var='''\n",
        "<!DOCTYPE html>  \n",
        "<html>  \n",
        "<head>  \n",
        "    <title>Hotel</title>\n",
        "    <meta charset=\"utf-8\">\n",
        "    <meta name=\"viewport\" content=\"width=device-width, initial-scale=1\">\n",
        "    <link rel=\"stylesheet\" href=\"https://maxcdn.bootstrapcdn.com/bootstrap/3.4.1/css/bootstrap.min.css\">\n",
        "    <script src=\"https://ajax.googleapis.com/ajax/libs/jquery/3.5.1/jquery.min.js\"></script>\n",
        "    <script src=\"https://maxcdn.bootstrapcdn.com/bootstrap/3.4.1/js/bootstrap.min.js\"></script>\n",
        "</head>  \n",
        "<body>\n",
        "    <div class=\"jumbotron text-center\">\n",
        "      <h2>Hi, Welcome to hotel room booking Website Created by MOHIT SANKHLA</h2>\n",
        "    </div>\n",
        "    <div class=\"container\">\n",
        "      <div class=\"row\">\n",
        "        <div class=\"col-sm-4\">\n",
        "            <div cass=\"navbar-link\"> \n",
        "              <a href=\"/add\">Book your room</a><br><br>\n",
        "            </div>\n",
        "        </div>\n",
        "        <div class=\"col-sm-4\">\n",
        "          <div cass=\"navbar-link\">\n",
        "            <a href =\"/view\">Display All</a><br><br>\n",
        "          </div>\n",
        "        </div> \n",
        "</body>  \n",
        "</html>\n",
        "'''\n",
        "file=open(\"templates/index.html\",\"w\")\n",
        "file.write(var)\n",
        "file.close()"
      ],
      "execution_count": 16,
      "outputs": []
    },
    {
      "cell_type": "code",
      "metadata": {
        "colab": {
          "base_uri": "https://localhost:8080/"
        },
        "id": "yFrFSewPnbpA",
        "outputId": "a733cc69-2d8e-4d49-ebb1-23748285dbf5"
      },
      "source": [
        "!pip install flask_ngrok"
      ],
      "execution_count": 17,
      "outputs": [
        {
          "output_type": "stream",
          "text": [
            "Requirement already satisfied: flask_ngrok in /usr/local/lib/python3.7/dist-packages (0.0.25)\n",
            "Requirement already satisfied: Flask>=0.8 in /usr/local/lib/python3.7/dist-packages (from flask_ngrok) (1.1.4)\n",
            "Requirement already satisfied: requests in /usr/local/lib/python3.7/dist-packages (from flask_ngrok) (2.23.0)\n",
            "Requirement already satisfied: Werkzeug<2.0,>=0.15 in /usr/local/lib/python3.7/dist-packages (from Flask>=0.8->flask_ngrok) (1.0.1)\n",
            "Requirement already satisfied: itsdangerous<2.0,>=0.24 in /usr/local/lib/python3.7/dist-packages (from Flask>=0.8->flask_ngrok) (1.1.0)\n",
            "Requirement already satisfied: Jinja2<3.0,>=2.10.1 in /usr/local/lib/python3.7/dist-packages (from Flask>=0.8->flask_ngrok) (2.11.3)\n",
            "Requirement already satisfied: click<8.0,>=5.1 in /usr/local/lib/python3.7/dist-packages (from Flask>=0.8->flask_ngrok) (7.1.2)\n",
            "Requirement already satisfied: chardet<4,>=3.0.2 in /usr/local/lib/python3.7/dist-packages (from requests->flask_ngrok) (3.0.4)\n",
            "Requirement already satisfied: urllib3!=1.25.0,!=1.25.1,<1.26,>=1.21.1 in /usr/local/lib/python3.7/dist-packages (from requests->flask_ngrok) (1.24.3)\n",
            "Requirement already satisfied: certifi>=2017.4.17 in /usr/local/lib/python3.7/dist-packages (from requests->flask_ngrok) (2021.5.30)\n",
            "Requirement already satisfied: idna<3,>=2.5 in /usr/local/lib/python3.7/dist-packages (from requests->flask_ngrok) (2.10)\n",
            "Requirement already satisfied: MarkupSafe>=0.23 in /usr/local/lib/python3.7/dist-packages (from Jinja2<3.0,>=2.10.1->Flask>=0.8->flask_ngrok) (2.0.1)\n"
          ],
          "name": "stdout"
        }
      ]
    },
    {
      "cell_type": "code",
      "metadata": {
        "id": "1JovD_FZnihX"
      },
      "source": [
        "var ='''\n",
        "<!DOCTYPE html>  \n",
        "<html>  \n",
        "<head>  \n",
        "    <title>Hotel</title>\n",
        "    <meta charset=\"utf-8\">\n",
        "    <meta name=\"viewport\" content=\"width=device-width, initial-scale=1\">\n",
        "    <link rel=\"stylesheet\" href=\"https://maxcdn.bootstrapcdn.com/bootstrap/3.4.1/css/bootstrap.min.css\">\n",
        "    <script src=\"https://ajax.googleapis.com/ajax/libs/jquery/3.5.1/jquery.min.js\"></script>\n",
        "    <script src=\"https://maxcdn.bootstrapcdn.com/bootstrap/3.4.1/js/bootstrap.min.js\"></script>\n",
        "</head>  \n",
        "<body>\n",
        "    <div class=\"jumbotron text-center\">\n",
        "      <h3>Hi Admin, {{msg}}</h3>\n",
        "      <div cass=\"navbar-link\">\n",
        "        <a href=\"/view\">View Booking</a>\n",
        "      </div>\n",
        "    </div>\n",
        "</body>  \n",
        "</html>\n",
        "'''\n",
        "file=open(\"templates/success.html\",\"w\")\n",
        "file.write(var)\n",
        "file.close()"
      ],
      "execution_count": 18,
      "outputs": []
    },
    {
      "cell_type": "code",
      "metadata": {
        "id": "QpcZ1UoInm2B"
      },
      "source": [
        "var='''\n",
        "<!DOCTYPE html>  \n",
        "<html>  \n",
        "<head>  \n",
        "    <title>Hotel</title>\n",
        "    <meta charset=\"utf-8\">\n",
        "    <meta name=\"viewport\" content=\"width=device-width, initial-scale=1\">\n",
        "    <link rel=\"stylesheet\" href=\"https://maxcdn.bootstrapcdn.com/bootstrap/3.4.1/css/bootstrap.min.css\">\n",
        "    <script src = \"https://ajax.googleapis.com/ajax/libs/jquery/1.12.0/jquery.min.js\"></script>  \n",
        "    <script src =\"https://maxcdn.bootstrapcdn.com/bootstrap/3.3.6/js/bootstrap.min.js\"></script>\n",
        "    <link rel = \"stylesheet\" href = \"https://stackpath.bootstrapcdn.com/bootstrap/4.5.2/css/bootstrap.min.css\">\n",
        "    <!-- Bootstrap Date-Picker Plugin -->\n",
        "    <script type=\"text/javascript\" src=\"https://cdnjs.cloudflare.com/ajax/libs/bootstrap-datepicker/1.4.1/js/bootstrap-datepicker.min.js\"></script>\n",
        "    <link rel=\"stylesheet\" href=\"https://cdnjs.cloudflare.com/ajax/libs/bootstrap-datepicker/1.4.1/css/bootstrap-datepicker3.css\"/>\n",
        "</head>  \n",
        "<body>\n",
        "    <div class=\"jumbotron text-center\">\n",
        "      <h2>Booking page please Book your room here </h2>\n",
        "    </div>   \n",
        "    <form action = \"/savedetails\" method=\"post\">\n",
        "      <div class=\"table-responsive\">\n",
        "          <div class=\"form-group\"> \n",
        "            Your Name: <input type=\"text\" name=\"name\" class=\"form-control\">\n",
        "          </div>\n",
        "          <div class=\"form-group\">\n",
        "            Your Email: <textarea class=\"form-control\" rows=\"5\" id=\"comment\" name=\"email\"></textarea>\n",
        "          </div>\n",
        "          <div class=\"form-group\">\n",
        "            Room type: \n",
        "                <select class=\"form-control\" id=\"sel1\" name=\"roomtype\">\n",
        "                  <option>standard</option>\n",
        "                  <option>private</option>\n",
        "                </select>\n",
        "          </div>\n",
        "           <div class=\"form-group\">\n",
        "            Room type: \n",
        "                <select class=\"form-control\" id=\"sel1\" name=\"pickup\">\n",
        "                  <option>pickup me</option>\n",
        "                  <option>No thanks,</option>\n",
        "                </select>\n",
        "          </div>\n",
        "          <div class=\"form-group\">\n",
        "            Date Of Arrival: \n",
        "              <div class=\"container\">\n",
        "                <div class='row'>\n",
        "                  <div class='col-sm-12'>\n",
        "                        <input type = \"date\" name = \"arrival\">\n",
        "                  </div>\n",
        "                </div>\n",
        "              </div>\n",
        "          </div>\n",
        "          <div class=\"form-group\">\n",
        "            Date of departure: \n",
        "              <div class=\"container\">\n",
        "                <div class='row'>\n",
        "                  <div class='col-sm-12'>\n",
        "                        <input type = \"date\" name = \"departure\">\n",
        "                  </div>\n",
        "                </div>\n",
        "              </div>\n",
        "          </div>\n",
        "            <br><button type=\"submit\" class=\"btn btn-primery\">Submit</button>\n",
        "      </div>  \n",
        "    </form>  \n",
        "</body>  \n",
        "</html>\n",
        "'''\n",
        "file=open(\"templates/add.html\",\"w\")\n",
        "file.write(var)\n",
        "file.close()"
      ],
      "execution_count": 19,
      "outputs": []
    },
    {
      "cell_type": "code",
      "metadata": {
        "id": "tHYRX6oWnoZ4"
      },
      "source": [
        "var ='''\n",
        "<!DOCTYPE html>  \n",
        "<html>  \n",
        "<head>  \n",
        "    <title>Hotel</title>\n",
        "    <meta charset=\"utf-8\">\n",
        "    <meta name=\"viewport\" content=\"width=device-width, initial-scale=1\">\n",
        "    <link rel=\"stylesheet\" href=\"https://maxcdn.bootstrapcdn.com/bootstrap/3.4.1/css/bootstrap.min.css\">\n",
        "    <script src=\"https://ajax.googleapis.com/ajax/libs/jquery/3.5.1/jquery.min.js\"></script>\n",
        "    <script src=\"https://maxcdn.bootstrapcdn.com/bootstrap/3.4.1/js/bootstrap.min.js\"></script>\n",
        "</head>  \n",
        "<body>\n",
        "    <div class=\"jumbotron text-center\">\n",
        "      <h3>Hi Admin, {{msg}}</h3>\n",
        "      <div cass=\"navbar-link\">\n",
        "        <a href=\"/view\">View Booking</a>\n",
        "      </div>\n",
        "    </div>\n",
        "</body>  \n",
        "</html>\n",
        "'''\n",
        "file=open(\"templates/success.html\",\"w\")\n",
        "file.write(var)\n",
        "file.close()"
      ],
      "execution_count": 20,
      "outputs": []
    },
    {
      "cell_type": "code",
      "metadata": {
        "id": "0Pt9LE0dnpsM"
      },
      "source": [
        "\n",
        "\n",
        "var='''\n",
        "<!DOCTYPE html>  \n",
        "<html>  \n",
        "<head>  \n",
        "    <title>hotel booking</title>\n",
        "    <meta charset=\"utf-8\">\n",
        "    <meta name=\"viewport\" content=\"width=device-width, initial-scale=1\">\n",
        "    <link rel=\"stylesheet\" href=\"https://maxcdn.bootstrapcdn.com/bootstrap/3.4.1/css/bootstrap.min.css\">\n",
        "    <script src=\"https://ajax.googleapis.com/ajax/libs/jquery/3.5.1/jquery.min.js\"></script>\n",
        "    <script src=\"https://maxcdn.bootstrapcdn.com/bootstrap/3.4.1/js/bootstrap.min.js\"></script>  \n",
        "</head>  \n",
        "<body>  \n",
        "  <div class=\"jumbotron text-center\">\n",
        "    <h3>View your booking Data Information</h3>\n",
        "  </div>\n",
        "  <table border=5 class=\"table table-hover\">  \n",
        "    <thead>  \n",
        "        <td>ID</td>  \n",
        "        <td>Name</td>  \n",
        "        <td>email</td>\n",
        "        <td>roomtype</td>\n",
        "        <td>pickup</td>\n",
        "        <td>arrival</td>\n",
        "        <td>departure</td>\n",
        "\n",
        "    </thead>  \n",
        "      \n",
        "    {% for row in rows %}  \n",
        "        <tr>  \n",
        "            <td>{{row[\"id\"]}}</td>  \n",
        "            <td>{{row[\"name\"]}}</td>\n",
        "            <td>{{row[\"email\"]}}</td>  \n",
        "            <td>{{row[\"roomtype\"]}}</td>\n",
        "            <td>{{row[\"pickup\"]}}</td>\n",
        "            <td>{{row[\"arrival\"]}}</td>\n",
        "            <td>{{row[\"departure\"]}}</td>\n",
        "        </tr>  \n",
        "    {% endfor %}  \n",
        "  </table><br><br>  \n",
        "  <div cass=\"navbar-link\">\n",
        "    <a href=\"/\">Go back to home page</a>  \n",
        "  </div>\n",
        "</body>  \n",
        "</html>\n",
        "'''\n",
        "file=open(\"templates/view.html\",\"w\")\n",
        "file.write(var)\n",
        "file.close()"
      ],
      "execution_count": 21,
      "outputs": []
    },
    {
      "cell_type": "code",
      "metadata": {
        "colab": {
          "base_uri": "https://localhost:8080/"
        },
        "id": "RRC1dNebnrCh",
        "outputId": "99ffab63-af03-4ba4-9428-5880a72ef244"
      },
      "source": [
        "from flask import Flask,render_template,url_for,redirect,request\n",
        "import sqlite3 \n",
        "from flask_ngrok import run_with_ngrok\n",
        "  \n",
        "app = Flask(__name__)\n",
        "run_with_ngrok(app)\n",
        "\n",
        " \n",
        "@app.route(\"/\")  \n",
        "def index():  \n",
        "    return render_template(\"index.html\");  \n",
        " \n",
        "@app.route(\"/add\")  \n",
        "def add():  \n",
        "    return render_template(\"add.html\")  \n",
        " \n",
        "@app.route(\"/savedetails\",methods = [\"POST\",\"GET\"])  \n",
        "def saveDetails():  \n",
        "    msg = \"msg\"  \n",
        "    if request.method == \"POST\":  \n",
        "        try:  \n",
        "            name = request.form[\"name\"]\n",
        "            email = request.form[\"email\"]\n",
        "            roomtype = request.form[\"roomtype\"]\n",
        "            pickup = request.form[\"pickup\"]\n",
        "            arrival = request.form[\"arrival\"]\n",
        "            departure = request.form[\"departure\"]  \n",
        "            with sqlite3.connect(\"hotel.db\") as con:  \n",
        "                cur = con.cursor()  \n",
        "                cur.execute(\"INSERT into hotel1 (name, email, roomtype, pickup, arrival, departure) values (?,?,?,?,?,?)\",(name, email, roomtype, pickup, arrival, departure))\n",
        "                con.commit()  \n",
        "                msg = \"{}'s Booking done successfully\".format(donorname)  \n",
        "        except:  \n",
        "            con.rollback()  \n",
        "            msg = \"Booking done successfully\" \n",
        "        finally:  \n",
        "            return render_template(\"success.html\",msg = msg)  \n",
        "            con.close()  \n",
        " \n",
        "@app.route(\"/view\")  \n",
        "def view():  \n",
        "    con = sqlite3.connect(\"hotel.db\")  \n",
        "    con.row_factory = sqlite3.Row  \n",
        "    cur = con.cursor()  \n",
        "    cur.execute(\"select * from hotel1\")  \n",
        "    rows = cur.fetchall()  \n",
        "    return render_template(\"view.html\",rows = rows)  \n",
        "  \n",
        "if __name__ == \"__main__\":  \n",
        "    app.run()"
      ],
      "execution_count": 22,
      "outputs": [
        {
          "output_type": "stream",
          "text": [
            " * Serving Flask app \"__main__\" (lazy loading)\n",
            " * Environment: production\n",
            "\u001b[31m   WARNING: This is a development server. Do not use it in a production deployment.\u001b[0m\n",
            "\u001b[2m   Use a production WSGI server instead.\u001b[0m\n",
            " * Debug mode: off\n"
          ],
          "name": "stdout"
        },
        {
          "output_type": "stream",
          "text": [
            " * Running on http://127.0.0.1:5000/ (Press CTRL+C to quit)\n"
          ],
          "name": "stderr"
        },
        {
          "output_type": "stream",
          "text": [
            " * Running on http://57b05bbd690b.ngrok.io\n",
            " * Traffic stats available on http://127.0.0.1:4040\n"
          ],
          "name": "stdout"
        },
        {
          "output_type": "stream",
          "text": [
            "127.0.0.1 - - [17/Jul/2021 08:51:26] \"\u001b[37mGET / HTTP/1.1\u001b[0m\" 200 -\n",
            "127.0.0.1 - - [17/Jul/2021 08:51:27] \"\u001b[33mGET /favicon.ico HTTP/1.1\u001b[0m\" 404 -\n"
          ],
          "name": "stderr"
        }
      ]
    },
    {
      "cell_type": "markdown",
      "metadata": {
        "id": "2YQzsKhiq61H"
      },
      "source": [
        "# **2. Write a Python Program to Count the Number of Vowels Present in a String using Sets**"
      ]
    },
    {
      "cell_type": "code",
      "metadata": {
        "id": "xLytnjOunscj",
        "colab": {
          "base_uri": "https://localhost:8080/"
        },
        "outputId": "b055fabe-458f-4695-c8db-61fbafefa426"
      },
      "source": [
        "# Python3 code to count vowel in\n",
        "# a string using set\n",
        "\n",
        "# Function to count vowel\n",
        "def vowel_count(str):\n",
        "\t\n",
        "\t# Initializing count variable to 0\n",
        "\tcount = 0\n",
        "\t\n",
        "\t# Creating a set of vowels\n",
        "\tvowel = set(\"aeiouAEIOU\")\n",
        "\t\n",
        "\t# Loop to traverse the alphabet\n",
        "\t# in the given string\n",
        "\tfor alphabet in str:\n",
        "\t\n",
        "\t\t# If alphabet is present\n",
        "\t\t# in set vowel\n",
        "\t\tif alphabet in vowel:\n",
        "\t\t\tcount = count + 1\n",
        "\t\n",
        "\tprint(\"No. of vowels :\", count)\n",
        "\t\n",
        "# Driver code\n",
        "str = \"My Name is mohit sankhla\"\n",
        "\n",
        "# Function Call\n",
        "vowel_count(str)\n"
      ],
      "execution_count": 23,
      "outputs": [
        {
          "output_type": "stream",
          "text": [
            "No. of vowels : 7\n"
          ],
          "name": "stdout"
        }
      ]
    }
  ]
}